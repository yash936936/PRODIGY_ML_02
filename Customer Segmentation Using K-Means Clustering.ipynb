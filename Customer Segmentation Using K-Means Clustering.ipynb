{
 "cells": [
  {
   "cell_type": "markdown",
   "id": "ef8c1edd-810b-4ebe-9bc0-dfda32e77921",
   "metadata": {},
   "source": [
    "# Customer Segmentation Using K-Means Clustering\n",
    "---\n",
    "\n",
    "**Problem Statement**\n",
    "Segment customers of a retail store into distinct groups based on their purchase history using the K-means clustering algorithm. This helps the business better understand customer behavior and tailor marketing strategies accordingly.\n",
    "\n",
    "**Approach**\n",
    "\n",
    "- Data Loading and Exploration: Load the customer dataset and explore its structure.\n",
    "- Data Preprocessing: Handle missing values, scale features, and select relevant columns for clustering.\n",
    "- Choosing K (Number of Clusters): Use the Elbow Method to determine the optimal number of clusters.\n",
    "- Model Training: Fit the K-means algorithm to the data.\n",
    "- Cluster Assignment: Assign each customer to a cluster.\n",
    "- Visualization: Visualize clusters for interpretation."
   ]
  },
  {
   "cell_type": "code",
   "execution_count": null,
   "id": "91d1a925-0c86-42e4-b4c9-5a2d898dad11",
   "metadata": {},
   "outputs": [],
   "source": [
    "import pandas as pd\n",
    "import numpy as np\n",
    "import matplotlib.pyplot as plt\n",
    "from sklearn.cluster import KMeans\n",
    "from sklearn.preprocessing import StandardScaler"
   ]
  }
 ],
 "metadata": {
  "kernelspec": {
   "display_name": "Python 3 (ipykernel)",
   "language": "python",
   "name": "python3"
  },
  "language_info": {
   "codemirror_mode": {
    "name": "ipython",
    "version": 3
   },
   "file_extension": ".py",
   "mimetype": "text/x-python",
   "name": "python",
   "nbconvert_exporter": "python",
   "pygments_lexer": "ipython3",
   "version": "3.12.7"
  }
 },
 "nbformat": 4,
 "nbformat_minor": 5
}
